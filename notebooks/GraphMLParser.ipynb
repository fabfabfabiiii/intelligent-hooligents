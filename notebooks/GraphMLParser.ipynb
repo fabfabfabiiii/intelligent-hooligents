{
 "cells": [
  {
   "cell_type": "code",
   "id": "initial_id",
   "metadata": {
    "collapsed": true,
    "ExecuteTime": {
     "end_time": "2025-02-22T09:51:24.273702Z",
     "start_time": "2025-02-22T09:51:24.269263Z"
    }
   },
   "source": [
    "#imports\n",
    "import networkx as nx\n",
    "import Read_Graph"
   ],
   "outputs": [],
   "execution_count": 43
  },
  {
   "metadata": {
    "ExecuteTime": {
     "end_time": "2025-02-22T09:51:24.290002Z",
     "start_time": "2025-02-22T09:51:24.287173Z"
    }
   },
   "cell_type": "code",
   "source": "graph = Read_Graph.readGraphML(\"../resources/Verkehrsnetz.graphml\")",
   "id": "96a422c480094ce7",
   "outputs": [
    {
     "name": "stdout",
     "output_type": "stream",
     "text": [
      "{'positionX': '206', 'positionY': '98', 'id': '0', 'mainText': 'Stadion', 'upText': '', 'size': '30'}\n"
     ]
    }
   ],
   "execution_count": 44
  },
  {
   "metadata": {
    "ExecuteTime": {
     "end_time": "2025-02-22T09:52:00.446932Z",
     "start_time": "2025-02-22T09:52:00.443388Z"
    }
   },
   "cell_type": "code",
   "source": [
    "def get_graph_values_for_tsp_solver(graph: nx.Graph):\n",
    "    #return variables in this format:\n",
    "    num_nodes = len(graph.nodes)\n",
    "    node_names = {node: data[\"label\"] for node, data in graph.nodes(data=True)}\n",
    "    coordinates = {node: data[\"pos\"] for node, data in graph.nodes(data=True)}\n",
    "    edges = graph.edges\n",
    "    distances = {(node1, node2): data[\"weight\"] for node1, node2, data in g.edges(data=True)}\n",
    "    return num_nodes, node_names, coordinates, edges, distances"
   ],
   "id": "f83c892f37a1ba3d",
   "outputs": [],
   "execution_count": 48
  }
 ],
 "metadata": {
  "kernelspec": {
   "display_name": "Python 3",
   "language": "python",
   "name": "python3"
  },
  "language_info": {
   "codemirror_mode": {
    "name": "ipython",
    "version": 2
   },
   "file_extension": ".py",
   "mimetype": "text/x-python",
   "name": "python",
   "nbconvert_exporter": "python",
   "pygments_lexer": "ipython2",
   "version": "2.7.6"
  }
 },
 "nbformat": 4,
 "nbformat_minor": 5
}
