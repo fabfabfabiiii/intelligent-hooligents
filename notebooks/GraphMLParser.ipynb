{
 "cells": [
  {
   "cell_type": "code",
   "execution_count": null,
   "id": "initial_id",
   "metadata": {
    "collapsed": true
   },
   "outputs": [],
   "source": "#imports"
  },
  {
   "metadata": {},
   "cell_type": "code",
   "outputs": [],
   "execution_count": null,
   "source": [
    "def read_graphml(filename: str):\n",
    "    #TODO implement function\n",
    "\n",
    "    #return variables in this format:\n",
    "    num_nodes = 3\n",
    "    node_names = {\n",
    "        0: \"Stadion\",\n",
    "        1: \"Ziel 1\",\n",
    "        2: \"Ziel 2\",\n",
    "    }\n",
    "\n",
    "    coordinates = {\n",
    "        0: (0, 0),\n",
    "        1: (2, 4),\n",
    "        2: (3, 3)\n",
    "    }\n",
    "\n",
    "    #nur die verbindungen, die es wirklich gibt. dabei nur in eine richtung angeben (node mit geringerer id an erster stelle)\n",
    "    edges = ((0,1), (1,2))\n",
    "\n",
    "    #für jede edge wird eine distance zugewiesen\n",
    "    distance = {\n",
    "        (0,1): 4,\n",
    "        (1,2): 6,\n",
    "    }\n",
    "\n",
    "    return num_nodes, node_names, coordinates, edges, distance"
   ],
   "id": "f83c892f37a1ba3d"
  }
 ],
 "metadata": {
  "kernelspec": {
   "display_name": "Python 3",
   "language": "python",
   "name": "python3"
  },
  "language_info": {
   "codemirror_mode": {
    "name": "ipython",
    "version": 2
   },
   "file_extension": ".py",
   "mimetype": "text/x-python",
   "name": "python",
   "nbconvert_exporter": "python",
   "pygments_lexer": "ipython2",
   "version": "2.7.6"
  }
 },
 "nbformat": 4,
 "nbformat_minor": 5
}
