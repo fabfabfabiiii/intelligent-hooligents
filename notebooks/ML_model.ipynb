{
 "cells": [
  {
   "cell_type": "code",
   "id": "initial_id",
   "metadata": {
    "collapsed": true,
    "ExecuteTime": {
     "end_time": "2025-04-12T19:21:44.759579Z",
     "start_time": "2025-04-12T19:21:44.754748Z"
    }
   },
   "source": [
    "import random\n",
    "import pickle\n",
    "\n",
    "import pandas as pd\n",
    "from sklearn.linear_model import LinearRegression\n",
    "from sklearn.model_selection import train_test_split\n",
    "from sklearn.preprocessing import MinMaxScaler\n",
    "from sklearn.metrics import mean_squared_error, mean_absolute_error"
   ],
   "outputs": [],
   "execution_count": 437
  },
  {
   "metadata": {
    "ExecuteTime": {
     "end_time": "2025-04-12T19:21:44.764812Z",
     "start_time": "2025-04-12T19:21:44.759579Z"
    }
   },
   "cell_type": "code",
   "source": [
    "SEED = 11485672\n",
    "NO_DUPLICATE = False\n",
    "\n",
    "\n",
    "random.seed(SEED)"
   ],
   "id": "772311bd27c3af37",
   "outputs": [],
   "execution_count": 438
  },
  {
   "metadata": {
    "ExecuteTime": {
     "end_time": "2025-04-12T19:21:44.792034Z",
     "start_time": "2025-04-12T19:21:44.774922Z"
    }
   },
   "cell_type": "code",
   "source": [
    "df = pd.read_csv('../resources/satisfaction_data.csv')\n",
    "\n",
    "#delete id column\n",
    "df = df.drop(columns=['id'])\n",
    "#df = df.drop(columns=['zufriedenheit_1', 'zufriedenheit_2'])"
   ],
   "id": "45d2774cce934ebd",
   "outputs": [],
   "execution_count": 439
  },
  {
   "metadata": {
    "ExecuteTime": {
     "end_time": "2025-04-12T19:21:44.808969Z",
     "start_time": "2025-04-12T19:21:44.802796Z"
    }
   },
   "cell_type": "code",
   "source": "df.head()",
   "id": "e2a79dabb33dcf86",
   "outputs": [
    {
     "data": {
      "text/plain": [
       "    verein  ist_angekommen  zufriedenheit_1  zufriedenheit_2  zufriedenheit_3  \\\n",
       "0   Club B           False               -1               -1               -1   \n",
       "1   Club A           False               -1               -1               -1   \n",
       "2   Club B           False               -1               -1               -1   \n",
       "3   Club B           False               -1               -1               -1   \n",
       "4  Neutral           False               -1               -1               -1   \n",
       "\n",
       "   zufriedenheit_4  zufriedenheit_5   action   y  \n",
       "0              100               91  DRIVING  91  \n",
       "1              100               97  DRIVING  97  \n",
       "2              100               91  DRIVING  91  \n",
       "3              100               91  DRIVING  91  \n",
       "4              100               94  DRIVING  94  "
      ],
      "text/html": [
       "<div>\n",
       "<style scoped>\n",
       "    .dataframe tbody tr th:only-of-type {\n",
       "        vertical-align: middle;\n",
       "    }\n",
       "\n",
       "    .dataframe tbody tr th {\n",
       "        vertical-align: top;\n",
       "    }\n",
       "\n",
       "    .dataframe thead th {\n",
       "        text-align: right;\n",
       "    }\n",
       "</style>\n",
       "<table border=\"1\" class=\"dataframe\">\n",
       "  <thead>\n",
       "    <tr style=\"text-align: right;\">\n",
       "      <th></th>\n",
       "      <th>verein</th>\n",
       "      <th>ist_angekommen</th>\n",
       "      <th>zufriedenheit_1</th>\n",
       "      <th>zufriedenheit_2</th>\n",
       "      <th>zufriedenheit_3</th>\n",
       "      <th>zufriedenheit_4</th>\n",
       "      <th>zufriedenheit_5</th>\n",
       "      <th>action</th>\n",
       "      <th>y</th>\n",
       "    </tr>\n",
       "  </thead>\n",
       "  <tbody>\n",
       "    <tr>\n",
       "      <th>0</th>\n",
       "      <td>Club B</td>\n",
       "      <td>False</td>\n",
       "      <td>-1</td>\n",
       "      <td>-1</td>\n",
       "      <td>-1</td>\n",
       "      <td>100</td>\n",
       "      <td>91</td>\n",
       "      <td>DRIVING</td>\n",
       "      <td>91</td>\n",
       "    </tr>\n",
       "    <tr>\n",
       "      <th>1</th>\n",
       "      <td>Club A</td>\n",
       "      <td>False</td>\n",
       "      <td>-1</td>\n",
       "      <td>-1</td>\n",
       "      <td>-1</td>\n",
       "      <td>100</td>\n",
       "      <td>97</td>\n",
       "      <td>DRIVING</td>\n",
       "      <td>97</td>\n",
       "    </tr>\n",
       "    <tr>\n",
       "      <th>2</th>\n",
       "      <td>Club B</td>\n",
       "      <td>False</td>\n",
       "      <td>-1</td>\n",
       "      <td>-1</td>\n",
       "      <td>-1</td>\n",
       "      <td>100</td>\n",
       "      <td>91</td>\n",
       "      <td>DRIVING</td>\n",
       "      <td>91</td>\n",
       "    </tr>\n",
       "    <tr>\n",
       "      <th>3</th>\n",
       "      <td>Club B</td>\n",
       "      <td>False</td>\n",
       "      <td>-1</td>\n",
       "      <td>-1</td>\n",
       "      <td>-1</td>\n",
       "      <td>100</td>\n",
       "      <td>91</td>\n",
       "      <td>DRIVING</td>\n",
       "      <td>91</td>\n",
       "    </tr>\n",
       "    <tr>\n",
       "      <th>4</th>\n",
       "      <td>Neutral</td>\n",
       "      <td>False</td>\n",
       "      <td>-1</td>\n",
       "      <td>-1</td>\n",
       "      <td>-1</td>\n",
       "      <td>100</td>\n",
       "      <td>94</td>\n",
       "      <td>DRIVING</td>\n",
       "      <td>94</td>\n",
       "    </tr>\n",
       "  </tbody>\n",
       "</table>\n",
       "</div>"
      ]
     },
     "execution_count": 440,
     "metadata": {},
     "output_type": "execute_result"
    }
   ],
   "execution_count": 440
  },
  {
   "metadata": {
    "ExecuteTime": {
     "end_time": "2025-04-12T19:21:44.842018Z",
     "start_time": "2025-04-12T19:21:44.838849Z"
    }
   },
   "cell_type": "code",
   "source": [
    "print(f'Datenpunkte: {df.shape[0]}')\n",
    "print(f'Features: {list(df.columns)}')"
   ],
   "id": "cb5d2578ef5c23b3",
   "outputs": [
    {
     "name": "stdout",
     "output_type": "stream",
     "text": [
      "Datenpunkte: 25600\n",
      "Features: ['verein', 'ist_angekommen', 'zufriedenheit_1', 'zufriedenheit_2', 'zufriedenheit_3', 'zufriedenheit_4', 'zufriedenheit_5', 'action', 'y']\n"
     ]
    }
   ],
   "execution_count": 441
  },
  {
   "metadata": {
    "ExecuteTime": {
     "end_time": "2025-04-12T19:21:44.872531Z",
     "start_time": "2025-04-12T19:21:44.868879Z"
    }
   },
   "cell_type": "code",
   "source": [
    "if NO_DUPLICATE:\n",
    "    df = df.drop_duplicates(keep='first')\n",
    "    print(f'Datenpunkte: {df.shape[0]}')"
   ],
   "id": "56c761e9570b70cb",
   "outputs": [],
   "execution_count": 442
  },
  {
   "metadata": {
    "ExecuteTime": {
     "end_time": "2025-04-12T19:21:44.917666Z",
     "start_time": "2025-04-12T19:21:44.911436Z"
    }
   },
   "cell_type": "code",
   "source": "df['ist_angekommen'] = df['ist_angekommen'].map({True: 1, False: 0})",
   "id": "8ee0a1717de1474f",
   "outputs": [],
   "execution_count": 443
  },
  {
   "metadata": {
    "ExecuteTime": {
     "end_time": "2025-04-12T19:21:44.946456Z",
     "start_time": "2025-04-12T19:21:44.928987Z"
    }
   },
   "cell_type": "code",
   "source": [
    "X = df.drop(columns=['y'])  # Features\n",
    "y = df['y']                 # Zielvariable"
   ],
   "id": "562e29ca33c23856",
   "outputs": [],
   "execution_count": 444
  },
  {
   "metadata": {
    "ExecuteTime": {
     "end_time": "2025-04-12T19:21:44.964822Z",
     "start_time": "2025-04-12T19:21:44.956997Z"
    }
   },
   "cell_type": "code",
   "source": [
    "X = pd.get_dummies(X, columns=['verein', 'action'], dtype=int)\n",
    "\n",
    "#X.head()"
   ],
   "id": "6f8b8bf99e66a330",
   "outputs": [],
   "execution_count": 445
  },
  {
   "metadata": {
    "ExecuteTime": {
     "end_time": "2025-04-12T19:21:44.980816Z",
     "start_time": "2025-04-12T19:21:44.975390Z"
    }
   },
   "cell_type": "code",
   "source": "X_train, X_test, y_train, y_test = train_test_split(X, y, test_size=0.20, random_state=SEED)",
   "id": "36573c62240e4150",
   "outputs": [],
   "execution_count": 446
  },
  {
   "metadata": {
    "ExecuteTime": {
     "end_time": "2025-04-12T19:21:45.000262Z",
     "start_time": "2025-04-12T19:21:44.991876Z"
    }
   },
   "cell_type": "code",
   "source": [
    "model = LinearRegression()\n",
    "\n",
    "model.fit(X_train, y_train)\n",
    "\n",
    "y_pred = model.predict(X_test)\n",
    "\n",
    "print(y_pred)"
   ],
   "id": "1ab0158050dc2a56",
   "outputs": [
    {
     "name": "stdout",
     "output_type": "stream",
     "text": [
      "[94.92101268 90.42424412  1.34172819 ... -0.36973019  1.34172819\n",
      " 92.50210727]\n"
     ]
    }
   ],
   "execution_count": 447
  },
  {
   "metadata": {
    "ExecuteTime": {
     "end_time": "2025-04-12T19:21:45.092574Z",
     "start_time": "2025-04-12T19:21:45.076230Z"
    }
   },
   "cell_type": "code",
   "source": [
    "# Mean Squared Error (MSE)\n",
    "mse = mean_squared_error(y_test, y_pred)\n",
    "print(f\"Mean Squared Error (MSE): {mse}\")\n",
    "\n",
    "\n",
    "mae = mean_absolute_error(y_test, y_pred)\n",
    "print(f\"Mean Absolute Error (MAE): {mae}\")"
   ],
   "id": "79596f3cc679bdc0",
   "outputs": [
    {
     "name": "stdout",
     "output_type": "stream",
     "text": [
      "Mean Squared Error (MSE): 1.157002683759315\n",
      "Mean Absolute Error (MAE): 0.7783838871708418\n"
     ]
    }
   ],
   "execution_count": 448
  },
  {
   "metadata": {
    "ExecuteTime": {
     "end_time": "2025-04-12T19:21:45.201192Z",
     "start_time": "2025-04-12T19:21:45.198117Z"
    }
   },
   "cell_type": "code",
   "source": [
    "#speicher Modell ab\n",
    "with open('../resources/satisfaction_model.pkl', 'wb') as f:\n",
    "    pickle.dump(model, f)"
   ],
   "id": "f923bdb8011cab3b",
   "outputs": [],
   "execution_count": 449
  }
 ],
 "metadata": {
  "kernelspec": {
   "display_name": "Python 3",
   "language": "python",
   "name": "python3"
  },
  "language_info": {
   "codemirror_mode": {
    "name": "ipython",
    "version": 2
   },
   "file_extension": ".py",
   "mimetype": "text/x-python",
   "name": "python",
   "nbconvert_exporter": "python",
   "pygments_lexer": "ipython2",
   "version": "2.7.6"
  }
 },
 "nbformat": 4,
 "nbformat_minor": 5
}
