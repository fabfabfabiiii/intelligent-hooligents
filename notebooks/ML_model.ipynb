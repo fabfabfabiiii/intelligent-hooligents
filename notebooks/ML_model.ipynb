{
 "cells": [
  {
   "cell_type": "code",
   "id": "initial_id",
   "metadata": {
    "collapsed": true,
    "ExecuteTime": {
     "end_time": "2025-04-12T19:49:12.830276Z",
     "start_time": "2025-04-12T19:49:11.842722Z"
    }
   },
   "source": [
    "import random\n",
    "import pickle\n",
    "\n",
    "import pandas as pd\n",
    "from sklearn.linear_model import LinearRegression\n",
    "from sklearn.model_selection import train_test_split\n",
    "from sklearn.preprocessing import MinMaxScaler\n",
    "from sklearn.metrics import mean_squared_error, mean_absolute_error"
   ],
   "outputs": [],
   "execution_count": 1
  },
  {
   "metadata": {
    "ExecuteTime": {
     "end_time": "2025-04-12T19:49:12.839102Z",
     "start_time": "2025-04-12T19:49:12.836281Z"
    }
   },
   "cell_type": "code",
   "source": [
    "SEED = 11485672\n",
    "NO_DUPLICATE = False\n",
    "SAVE_MODEL = False\n",
    "\n",
    "random.seed(SEED)"
   ],
   "id": "772311bd27c3af37",
   "outputs": [],
   "execution_count": 2
  },
  {
   "metadata": {
    "ExecuteTime": {
     "end_time": "2025-04-12T19:49:12.876245Z",
     "start_time": "2025-04-12T19:49:12.857146Z"
    }
   },
   "cell_type": "code",
   "source": [
    "df = pd.read_csv('../resources/satisfaction_data.csv')\n",
    "\n",
    "#delete id column\n",
    "df = df.drop(columns=['id'])\n",
    "#df = df.drop(columns=['zufriedenheit_1', 'zufriedenheit_2'])"
   ],
   "id": "45d2774cce934ebd",
   "outputs": [],
   "execution_count": 3
  },
  {
   "metadata": {
    "ExecuteTime": {
     "end_time": "2025-04-12T19:49:13.059854Z",
     "start_time": "2025-04-12T19:49:13.051639Z"
    }
   },
   "cell_type": "code",
   "source": "df.head()",
   "id": "e2a79dabb33dcf86",
   "outputs": [
    {
     "data": {
      "text/plain": [
       "    verein  ist_angekommen  zufriedenheit_1  zufriedenheit_2  zufriedenheit_3  \\\n",
       "0   Club B           False               -1               -1               -1   \n",
       "1   Club A           False               -1               -1               -1   \n",
       "2   Club B           False               -1               -1               -1   \n",
       "3   Club B           False               -1               -1               -1   \n",
       "4  Neutral           False               -1               -1               -1   \n",
       "\n",
       "   zufriedenheit_4  zufriedenheit_5   action   y  \n",
       "0              100               91  DRIVING  91  \n",
       "1              100               97  DRIVING  97  \n",
       "2              100               91  DRIVING  91  \n",
       "3              100               91  DRIVING  91  \n",
       "4              100               94  DRIVING  94  "
      ],
      "text/html": [
       "<div>\n",
       "<style scoped>\n",
       "    .dataframe tbody tr th:only-of-type {\n",
       "        vertical-align: middle;\n",
       "    }\n",
       "\n",
       "    .dataframe tbody tr th {\n",
       "        vertical-align: top;\n",
       "    }\n",
       "\n",
       "    .dataframe thead th {\n",
       "        text-align: right;\n",
       "    }\n",
       "</style>\n",
       "<table border=\"1\" class=\"dataframe\">\n",
       "  <thead>\n",
       "    <tr style=\"text-align: right;\">\n",
       "      <th></th>\n",
       "      <th>verein</th>\n",
       "      <th>ist_angekommen</th>\n",
       "      <th>zufriedenheit_1</th>\n",
       "      <th>zufriedenheit_2</th>\n",
       "      <th>zufriedenheit_3</th>\n",
       "      <th>zufriedenheit_4</th>\n",
       "      <th>zufriedenheit_5</th>\n",
       "      <th>action</th>\n",
       "      <th>y</th>\n",
       "    </tr>\n",
       "  </thead>\n",
       "  <tbody>\n",
       "    <tr>\n",
       "      <th>0</th>\n",
       "      <td>Club B</td>\n",
       "      <td>False</td>\n",
       "      <td>-1</td>\n",
       "      <td>-1</td>\n",
       "      <td>-1</td>\n",
       "      <td>100</td>\n",
       "      <td>91</td>\n",
       "      <td>DRIVING</td>\n",
       "      <td>91</td>\n",
       "    </tr>\n",
       "    <tr>\n",
       "      <th>1</th>\n",
       "      <td>Club A</td>\n",
       "      <td>False</td>\n",
       "      <td>-1</td>\n",
       "      <td>-1</td>\n",
       "      <td>-1</td>\n",
       "      <td>100</td>\n",
       "      <td>97</td>\n",
       "      <td>DRIVING</td>\n",
       "      <td>97</td>\n",
       "    </tr>\n",
       "    <tr>\n",
       "      <th>2</th>\n",
       "      <td>Club B</td>\n",
       "      <td>False</td>\n",
       "      <td>-1</td>\n",
       "      <td>-1</td>\n",
       "      <td>-1</td>\n",
       "      <td>100</td>\n",
       "      <td>91</td>\n",
       "      <td>DRIVING</td>\n",
       "      <td>91</td>\n",
       "    </tr>\n",
       "    <tr>\n",
       "      <th>3</th>\n",
       "      <td>Club B</td>\n",
       "      <td>False</td>\n",
       "      <td>-1</td>\n",
       "      <td>-1</td>\n",
       "      <td>-1</td>\n",
       "      <td>100</td>\n",
       "      <td>91</td>\n",
       "      <td>DRIVING</td>\n",
       "      <td>91</td>\n",
       "    </tr>\n",
       "    <tr>\n",
       "      <th>4</th>\n",
       "      <td>Neutral</td>\n",
       "      <td>False</td>\n",
       "      <td>-1</td>\n",
       "      <td>-1</td>\n",
       "      <td>-1</td>\n",
       "      <td>100</td>\n",
       "      <td>94</td>\n",
       "      <td>DRIVING</td>\n",
       "      <td>94</td>\n",
       "    </tr>\n",
       "  </tbody>\n",
       "</table>\n",
       "</div>"
      ]
     },
     "execution_count": 4,
     "metadata": {},
     "output_type": "execute_result"
    }
   ],
   "execution_count": 4
  },
  {
   "metadata": {
    "ExecuteTime": {
     "end_time": "2025-04-12T19:49:13.109287Z",
     "start_time": "2025-04-12T19:49:13.106795Z"
    }
   },
   "cell_type": "code",
   "source": [
    "print(f'Datenpunkte: {df.shape[0]}')\n",
    "print(f'Features: {list(df.columns)}')"
   ],
   "id": "cb5d2578ef5c23b3",
   "outputs": [
    {
     "name": "stdout",
     "output_type": "stream",
     "text": [
      "Datenpunkte: 25600\n",
      "Features: ['verein', 'ist_angekommen', 'zufriedenheit_1', 'zufriedenheit_2', 'zufriedenheit_3', 'zufriedenheit_4', 'zufriedenheit_5', 'action', 'y']\n"
     ]
    }
   ],
   "execution_count": 5
  },
  {
   "metadata": {
    "ExecuteTime": {
     "end_time": "2025-04-12T19:49:13.125519Z",
     "start_time": "2025-04-12T19:49:13.123296Z"
    }
   },
   "cell_type": "code",
   "source": [
    "if NO_DUPLICATE:\n",
    "    df = df.drop_duplicates(keep='first')\n",
    "    print(f'Datenpunkte: {df.shape[0]}')"
   ],
   "id": "56c761e9570b70cb",
   "outputs": [],
   "execution_count": 6
  },
  {
   "metadata": {
    "ExecuteTime": {
     "end_time": "2025-04-12T19:49:13.156042Z",
     "start_time": "2025-04-12T19:49:13.152774Z"
    }
   },
   "cell_type": "code",
   "source": "df['ist_angekommen'] = df['ist_angekommen'].map({True: 1, False: 0})",
   "id": "8ee0a1717de1474f",
   "outputs": [],
   "execution_count": 7
  },
  {
   "metadata": {
    "ExecuteTime": {
     "end_time": "2025-04-12T19:49:13.183230Z",
     "start_time": "2025-04-12T19:49:13.179051Z"
    }
   },
   "cell_type": "code",
   "source": [
    "X = df.drop(columns=['y'])  # Features\n",
    "y = df['y']                 # Zielvariable"
   ],
   "id": "562e29ca33c23856",
   "outputs": [],
   "execution_count": 8
  },
  {
   "metadata": {
    "ExecuteTime": {
     "end_time": "2025-04-12T19:49:13.220655Z",
     "start_time": "2025-04-12T19:49:13.212639Z"
    }
   },
   "cell_type": "code",
   "source": [
    "X = pd.get_dummies(X, columns=['verein', 'action'], dtype=int)\n",
    "\n",
    "#X.head()"
   ],
   "id": "6f8b8bf99e66a330",
   "outputs": [],
   "execution_count": 9
  },
  {
   "metadata": {
    "ExecuteTime": {
     "end_time": "2025-04-12T19:49:13.263121Z",
     "start_time": "2025-04-12T19:49:13.256062Z"
    }
   },
   "cell_type": "code",
   "source": [
    "X_train, X_test, y_train, y_test = train_test_split(X, y, test_size=0.20, random_state=SEED)\n",
    "\n",
    "print(X_train)"
   ],
   "id": "36573c62240e4150",
   "outputs": [
    {
     "name": "stdout",
     "output_type": "stream",
     "text": [
      "       ist_angekommen  zufriedenheit_1  zufriedenheit_2  zufriedenheit_3  \\\n",
      "3945                0                0                0                0   \n",
      "6973                0                0                0                0   \n",
      "5422                0               -1               -1               -1   \n",
      "17787               0                0                0                0   \n",
      "13734               0                0                0                0   \n",
      "...               ...              ...              ...              ...   \n",
      "16510               0               -1               -1              100   \n",
      "5074                0                0                0                0   \n",
      "12465               1                7                4                1   \n",
      "12931               0                0                0                0   \n",
      "12121               0               -1               -1              100   \n",
      "\n",
      "       zufriedenheit_4  zufriedenheit_5  verein_Club A  verein_Club B  \\\n",
      "3945                 0                0              0              1   \n",
      "6973                 0                0              0              0   \n",
      "5422               100               94              0              0   \n",
      "17787                0                0              0              1   \n",
      "13734                0                0              0              0   \n",
      "...                ...              ...            ...            ...   \n",
      "16510               94               90              0              0   \n",
      "5074                 0                0              0              0   \n",
      "12465               -2                0              1              0   \n",
      "12931                0                0              0              1   \n",
      "12121               97               95              1              0   \n",
      "\n",
      "       verein_Neutral  action_DRIVING  action_EXIT  action_WAITING  \n",
      "3945                0               0            0               1  \n",
      "6973                1               1            0               0  \n",
      "5422                1               0            0               1  \n",
      "17787               0               0            0               1  \n",
      "13734               1               0            0               1  \n",
      "...               ...             ...          ...             ...  \n",
      "16510               1               0            0               1  \n",
      "5074                1               0            1               0  \n",
      "12465               0               0            1               0  \n",
      "12931               0               0            0               1  \n",
      "12121               0               1            0               0  \n",
      "\n",
      "[20480 rows x 12 columns]\n"
     ]
    }
   ],
   "execution_count": 10
  },
  {
   "metadata": {
    "ExecuteTime": {
     "end_time": "2025-04-12T19:49:13.275936Z",
     "start_time": "2025-04-12T19:49:13.268127Z"
    }
   },
   "cell_type": "code",
   "source": [
    "model = LinearRegression()\n",
    "\n",
    "model.fit(X_train, y_train)\n",
    "\n",
    "y_pred = model.predict(X_test)\n",
    "\n",
    "print(y_pred)"
   ],
   "id": "1ab0158050dc2a56",
   "outputs": [
    {
     "name": "stdout",
     "output_type": "stream",
     "text": [
      "[94.92101268 90.42424412  1.34172819 ... -0.36973019  1.34172819\n",
      " 92.50210727]\n"
     ]
    }
   ],
   "execution_count": 11
  },
  {
   "metadata": {
    "ExecuteTime": {
     "end_time": "2025-04-12T19:49:13.349391Z",
     "start_time": "2025-04-12T19:49:13.345331Z"
    }
   },
   "cell_type": "code",
   "source": [
    "# Mean Squared Error (MSE)\n",
    "mse = mean_squared_error(y_test, y_pred)\n",
    "print(f\"Mean Squared Error (MSE): {mse}\")\n",
    "\n",
    "\n",
    "mae = mean_absolute_error(y_test, y_pred)\n",
    "print(f\"Mean Absolute Error (MAE): {mae}\")"
   ],
   "id": "79596f3cc679bdc0",
   "outputs": [
    {
     "name": "stdout",
     "output_type": "stream",
     "text": [
      "Mean Squared Error (MSE): 1.157002683759315\n",
      "Mean Absolute Error (MAE): 0.7783838871708418\n"
     ]
    }
   ],
   "execution_count": 12
  },
  {
   "metadata": {
    "ExecuteTime": {
     "end_time": "2025-04-12T19:49:13.439821Z",
     "start_time": "2025-04-12T19:49:13.436820Z"
    }
   },
   "cell_type": "code",
   "source": [
    "#speicher Modell ab\n",
    "\n",
    "if SAVE_MODEL:\n",
    "    with open('../resources/satisfaction_model.pkl', 'wb') as f:\n",
    "        pickle.dump(model, f)"
   ],
   "id": "f923bdb8011cab3b",
   "outputs": [],
   "execution_count": 13
  }
 ],
 "metadata": {
  "kernelspec": {
   "display_name": "Python 3",
   "language": "python",
   "name": "python3"
  },
  "language_info": {
   "codemirror_mode": {
    "name": "ipython",
    "version": 2
   },
   "file_extension": ".py",
   "mimetype": "text/x-python",
   "name": "python",
   "nbconvert_exporter": "python",
   "pygments_lexer": "ipython2",
   "version": "2.7.6"
  }
 },
 "nbformat": 4,
 "nbformat_minor": 5
}
