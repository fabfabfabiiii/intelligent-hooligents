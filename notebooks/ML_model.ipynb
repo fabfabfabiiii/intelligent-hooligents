{
 "cells": [
  {
   "cell_type": "code",
   "id": "initial_id",
   "metadata": {
    "collapsed": true,
    "ExecuteTime": {
     "end_time": "2025-04-12T17:30:29.024647Z",
     "start_time": "2025-04-12T17:30:29.022359Z"
    }
   },
   "source": [
    "import pandas as pd\n",
    "import ast"
   ],
   "outputs": [],
   "execution_count": 4
  },
  {
   "metadata": {
    "ExecuteTime": {
     "end_time": "2025-04-12T17:31:21.749146Z",
     "start_time": "2025-04-12T17:31:21.724164Z"
    }
   },
   "cell_type": "code",
   "source": [
    "df = pd.read_csv('../resources/ml_data.csv')\n",
    "\n",
    "df['zufriedenheit'] = df['zufriedenheit'].apply(ast.literal_eval)"
   ],
   "id": "45d2774cce934ebd",
   "outputs": [
    {
     "ename": "SyntaxError",
     "evalue": "unmatched ']' (<unknown>, line 1)",
     "output_type": "error",
     "traceback": [
      "Traceback \u001B[1;36m(most recent call last)\u001B[0m:\n",
      "\u001B[0m  File \u001B[0;32mD:\\WorkspacePycharme\\intelligent-hooligents\\.venv\\Lib\\site-packages\\IPython\\core\\interactiveshell.py:3579\u001B[0m in \u001B[0;35mrun_code\u001B[0m\n    exec(code_obj, self.user_global_ns, self.user_ns)\u001B[0m\n",
      "\u001B[0m  Cell \u001B[0;32mIn[6], line 3\u001B[0m\n    df['zufriedenheit'] = df['zufriedenheit'].apply(ast.literal_eval)\u001B[0m\n",
      "\u001B[0m  File \u001B[0;32mD:\\WorkspacePycharme\\intelligent-hooligents\\.venv\\Lib\\site-packages\\pandas\\core\\series.py:4924\u001B[0m in \u001B[0;35mapply\u001B[0m\n    ).apply()\u001B[0m\n",
      "\u001B[0m  File \u001B[0;32mD:\\WorkspacePycharme\\intelligent-hooligents\\.venv\\Lib\\site-packages\\pandas\\core\\apply.py:1427\u001B[0m in \u001B[0;35mapply\u001B[0m\n    return self.apply_standard()\u001B[0m\n",
      "\u001B[0m  File \u001B[0;32mD:\\WorkspacePycharme\\intelligent-hooligents\\.venv\\Lib\\site-packages\\pandas\\core\\apply.py:1507\u001B[0m in \u001B[0;35mapply_standard\u001B[0m\n    mapped = obj._map_values(\u001B[0m\n",
      "\u001B[0m  File \u001B[0;32mD:\\WorkspacePycharme\\intelligent-hooligents\\.venv\\Lib\\site-packages\\pandas\\core\\base.py:921\u001B[0m in \u001B[0;35m_map_values\u001B[0m\n    return algorithms.map_array(arr, mapper, na_action=na_action, convert=convert)\u001B[0m\n",
      "\u001B[0m  File \u001B[0;32mD:\\WorkspacePycharme\\intelligent-hooligents\\.venv\\Lib\\site-packages\\pandas\\core\\algorithms.py:1743\u001B[0m in \u001B[0;35mmap_array\u001B[0m\n    return lib.map_infer(values, mapper, convert=convert)\u001B[0m\n",
      "\u001B[0m  File \u001B[0;32mlib.pyx:2972\u001B[0m in \u001B[0;35mpandas._libs.lib.map_infer\u001B[0m\n",
      "\u001B[0m  File \u001B[0;32m~\\.pyenv\\pyenv-win\\versions\\3.12.5\\Lib\\ast.py:66\u001B[0m in \u001B[0;35mliteral_eval\u001B[0m\n    node_or_string = parse(node_or_string.lstrip(\" \\t\"), mode='eval')\u001B[0m\n",
      "\u001B[1;36m  File \u001B[1;32m~\\.pyenv\\pyenv-win\\versions\\3.12.5\\Lib\\ast.py:52\u001B[1;36m in \u001B[1;35mparse\u001B[1;36m\n\u001B[1;33m    return compile(source, filename, mode, flags,\u001B[1;36m\n",
      "\u001B[1;36m  File \u001B[1;32m<unknown>:1\u001B[1;36m\u001B[0m\n\u001B[1;33m    97]\u001B[0m\n\u001B[1;37m      ^\u001B[0m\n\u001B[1;31mSyntaxError\u001B[0m\u001B[1;31m:\u001B[0m unmatched ']'\n"
     ]
    }
   ],
   "execution_count": 6
  },
  {
   "metadata": {
    "ExecuteTime": {
     "end_time": "2025-04-12T17:29:39.062322Z",
     "start_time": "2025-04-12T17:29:39.052217Z"
    }
   },
   "cell_type": "code",
   "source": "df.head()",
   "id": "e2a79dabb33dcf86",
   "outputs": [
    {
     "data": {
      "text/plain": [
       "                      id  verein  ist_angekommen zufriedenheit   action   y\n",
       "2  Club A  False [-1  -1      -1             100           97]  DRIVING  97\n",
       "3  Club B  False [-1  -1      -1             100           91]  DRIVING  91\n",
       "15 Club B  False [-1  -1      -1             100           91]  DRIVING  91\n",
       "20 Neutral False [-1  -1      -1             100           94]  DRIVING  94\n",
       "27 Club A  False [-1  -1      -1             100           97]  DRIVING  97"
      ],
      "text/html": [
       "<div>\n",
       "<style scoped>\n",
       "    .dataframe tbody tr th:only-of-type {\n",
       "        vertical-align: middle;\n",
       "    }\n",
       "\n",
       "    .dataframe tbody tr th {\n",
       "        vertical-align: top;\n",
       "    }\n",
       "\n",
       "    .dataframe thead th {\n",
       "        text-align: right;\n",
       "    }\n",
       "</style>\n",
       "<table border=\"1\" class=\"dataframe\">\n",
       "  <thead>\n",
       "    <tr style=\"text-align: right;\">\n",
       "      <th></th>\n",
       "      <th></th>\n",
       "      <th></th>\n",
       "      <th></th>\n",
       "      <th>id</th>\n",
       "      <th>verein</th>\n",
       "      <th>ist_angekommen</th>\n",
       "      <th>zufriedenheit</th>\n",
       "      <th>action</th>\n",
       "      <th>y</th>\n",
       "    </tr>\n",
       "  </thead>\n",
       "  <tbody>\n",
       "    <tr>\n",
       "      <th>2</th>\n",
       "      <th>Club A</th>\n",
       "      <th>False</th>\n",
       "      <th>[-1</th>\n",
       "      <td>-1</td>\n",
       "      <td>-1</td>\n",
       "      <td>100</td>\n",
       "      <td>97]</td>\n",
       "      <td>DRIVING</td>\n",
       "      <td>97</td>\n",
       "    </tr>\n",
       "    <tr>\n",
       "      <th>3</th>\n",
       "      <th>Club B</th>\n",
       "      <th>False</th>\n",
       "      <th>[-1</th>\n",
       "      <td>-1</td>\n",
       "      <td>-1</td>\n",
       "      <td>100</td>\n",
       "      <td>91]</td>\n",
       "      <td>DRIVING</td>\n",
       "      <td>91</td>\n",
       "    </tr>\n",
       "    <tr>\n",
       "      <th>15</th>\n",
       "      <th>Club B</th>\n",
       "      <th>False</th>\n",
       "      <th>[-1</th>\n",
       "      <td>-1</td>\n",
       "      <td>-1</td>\n",
       "      <td>100</td>\n",
       "      <td>91]</td>\n",
       "      <td>DRIVING</td>\n",
       "      <td>91</td>\n",
       "    </tr>\n",
       "    <tr>\n",
       "      <th>20</th>\n",
       "      <th>Neutral</th>\n",
       "      <th>False</th>\n",
       "      <th>[-1</th>\n",
       "      <td>-1</td>\n",
       "      <td>-1</td>\n",
       "      <td>100</td>\n",
       "      <td>94]</td>\n",
       "      <td>DRIVING</td>\n",
       "      <td>94</td>\n",
       "    </tr>\n",
       "    <tr>\n",
       "      <th>27</th>\n",
       "      <th>Club A</th>\n",
       "      <th>False</th>\n",
       "      <th>[-1</th>\n",
       "      <td>-1</td>\n",
       "      <td>-1</td>\n",
       "      <td>100</td>\n",
       "      <td>97]</td>\n",
       "      <td>DRIVING</td>\n",
       "      <td>97</td>\n",
       "    </tr>\n",
       "  </tbody>\n",
       "</table>\n",
       "</div>"
      ]
     },
     "execution_count": 3,
     "metadata": {},
     "output_type": "execute_result"
    }
   ],
   "execution_count": 3
  }
 ],
 "metadata": {
  "kernelspec": {
   "display_name": "Python 3",
   "language": "python",
   "name": "python3"
  },
  "language_info": {
   "codemirror_mode": {
    "name": "ipython",
    "version": 2
   },
   "file_extension": ".py",
   "mimetype": "text/x-python",
   "name": "python",
   "nbconvert_exporter": "python",
   "pygments_lexer": "ipython2",
   "version": "2.7.6"
  }
 },
 "nbformat": 4,
 "nbformat_minor": 5
}
