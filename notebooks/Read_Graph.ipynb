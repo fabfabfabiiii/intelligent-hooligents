{
 "cells": [
  {
   "cell_type": "code",
   "id": "initial_id",
   "metadata": {
    "collapsed": true,
    "ExecuteTime": {
     "end_time": "2025-02-23T11:18:23.269369Z",
     "start_time": "2025-02-23T11:18:23.050826Z"
    }
   },
   "source": [
    "import networkx as nx\n",
    "import xml.etree.ElementTree as ElementTree"
   ],
   "outputs": [],
   "execution_count": 10
  },
  {
   "metadata": {
    "ExecuteTime": {
     "end_time": "2025-02-22T13:39:40.280138Z",
     "start_time": "2025-02-22T13:39:40.271875Z"
    }
   },
   "cell_type": "code",
   "source": [
    "def readGraphFromXml(xmlPath):\n",
    "    root = ElementTree.parse(xmlPath).getroot()\n",
    "    nodes = root.findall('.//node')\n",
    "    edges = root.findall('.//edge')\n",
    "    graph = nx.Graph()\n",
    "\n",
    "    for node in nodes:\n",
    "        attr = node.attrib\n",
    "        graph.add_node(attr[\"id\"], id=attr[\"id\"], label=attr[\"mainText\"], size=attr[\"size\"], pos=[int(attr[\"positionX\"]),int(attr[\"positionY\"])])\n",
    "\n",
    "    for edge in edges:\n",
    "        attr = edge.attrib\n",
    "        graph.add_edge(attr[\"source\"], attr[\"target\"], weight=attr[\"weight\"])\n",
    "\n",
    "    return graph"
   ],
   "id": "64ae655082dcfb7c",
   "outputs": [],
   "execution_count": 14
  }
 ],
 "metadata": {
  "kernelspec": {
   "display_name": "Python 3",
   "language": "python",
   "name": "python3"
  },
  "language_info": {
   "codemirror_mode": {
    "name": "ipython",
    "version": 2
   },
   "file_extension": ".py",
   "mimetype": "text/x-python",
   "name": "python",
   "nbconvert_exporter": "python",
   "pygments_lexer": "ipython2",
   "version": "2.7.6"
  }
 },
 "nbformat": 4,
 "nbformat_minor": 5
}
